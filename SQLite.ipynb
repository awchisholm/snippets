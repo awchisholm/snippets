{
  "nbformat": 4,
  "nbformat_minor": 0,
  "metadata": {
    "colab": {
      "name": "SQLite",
      "provenance": [],
      "collapsed_sections": [],
      "authorship_tag": "ABX9TyPrmFmqFyVilTPlp+7xPhil",
      "include_colab_link": true
    },
    "kernelspec": {
      "name": "python3",
      "display_name": "Python 3"
    },
    "language_info": {
      "name": "python"
    }
  },
  "cells": [
    {
      "cell_type": "markdown",
      "metadata": {
        "id": "view-in-github",
        "colab_type": "text"
      },
      "source": [
        "<a href=\"https://colab.research.google.com/github/awchisholm/snippets/blob/main/SQLite.ipynb\" target=\"_parent\"><img src=\"https://colab.research.google.com/assets/colab-badge.svg\" alt=\"Open In Colab\"/></a>"
      ]
    },
    {
      "cell_type": "code",
      "metadata": {
        "id": "V1JoXNpWVqZw"
      },
      "source": [
        "import sqlite3\n",
        "import os\n",
        "import os.path\n",
        "if not os.path.isfile('sampledata/SQL/createdb.sql'):\n",
        "  !rm -rf sampledata\n",
        "  !git clone -q https://github.com/awchisholm/sampledata.git"
      ],
      "execution_count": 1,
      "outputs": []
    },
    {
      "cell_type": "code",
      "metadata": {
        "id": "XXyQkYE6VwCP"
      },
      "source": [
        "# This function deletes a database.\n",
        "# It's just a file so all it does it \n",
        "#  delete the file\n",
        "def delete_db(database_file):\n",
        "    if os.path.exists(database_file):\n",
        "        os.remove(database_file)\n",
        "\n",
        "# This function initialises a database.\n",
        "# The first parameter is the file containing \n",
        "#  the database\n",
        "# The second parameter is a file containing \n",
        "#  SQL DDL to create the tables\n",
        "def init_db(database_file, database_sql):   \n",
        "    # open the sqlite database file\n",
        "    conn = sqlite3.connect(database_file)\n",
        "\n",
        "    # connect to it and get a cursor\n",
        "    # this is like a placeholder in the database\n",
        "    cursor = conn.cursor()                  \n",
        "    \n",
        "    # open the script file containing SQL\n",
        "    script = open(database_sql, 'r')        \n",
        "    \n",
        "    # read the contents of the script \n",
        "    # into a string called sql\n",
        "    sql = script.read()                     \n",
        "    \n",
        "    # execute the SQL \n",
        "    cursor.executescript(sql)               \n",
        "    \n",
        "    # commit the changes to make them permanent\n",
        "    conn.commit()                           \n",
        "    \n",
        "    # close the connection to the database\n",
        "    conn.close()                            "
      ],
      "execution_count": 2,
      "outputs": []
    },
    {
      "cell_type": "code",
      "metadata": {
        "id": "XBEpgPYEWKl1"
      },
      "source": [
        "delete_db('customer.db')\n",
        "init_db('customer.db', '/content/sampledata/SQL/createdb.sql')"
      ],
      "execution_count": 3,
      "outputs": []
    }
  ]
}