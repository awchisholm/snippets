{
  "nbformat": 4,
  "nbformat_minor": 0,
  "metadata": {
    "colab": {
      "name": "Trump",
      "provenance": [],
      "authorship_tag": "ABX9TyPIycXVzawuWYnIPPV+RLAn",
      "include_colab_link": true
    },
    "kernelspec": {
      "name": "python3",
      "display_name": "Python 3"
    },
    "language_info": {
      "name": "python"
    }
  },
  "cells": [
    {
      "cell_type": "markdown",
      "metadata": {
        "id": "view-in-github",
        "colab_type": "text"
      },
      "source": [
        "<a href=\"https://colab.research.google.com/github/awchisholm/snippets/blob/main/Trump.ipynb\" target=\"_parent\"><img src=\"https://colab.research.google.com/assets/colab-badge.svg\" alt=\"Open In Colab\"/></a>"
      ]
    },
    {
      "cell_type": "code",
      "execution_count": 4,
      "metadata": {
        "colab": {
          "base_uri": "https://localhost:8080/"
        },
        "id": "yVZbxSuKK_mA",
        "outputId": "74ace785-e78f-4685-eef4-4336eb868e9b"
      },
      "outputs": [
        {
          "output_type": "stream",
          "name": "stdout",
          "text": [
            "The beauty of me is that I'm very rich.\n"
          ]
        }
      ],
      "source": [
        "import requests\n",
        "import pandas as pd\n",
        "quote_url = 'https://api.whatdoestrumpthink.com/api/v1/quotes/random'\n",
        "quote = requests.get(quote_url)\n",
        "quote_df = pd.DataFrame(quote.json())\n",
        "message = quote_df['message'][0]\n",
        "print(message)"
      ]
    }
  ]
}