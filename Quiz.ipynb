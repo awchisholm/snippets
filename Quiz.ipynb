{
  "nbformat": 4,
  "nbformat_minor": 0,
  "metadata": {
    "colab": {
      "name": "Quiz",
      "provenance": [],
      "collapsed_sections": [],
      "authorship_tag": "ABX9TyOEc3SM0A35b96xYkwY/pTW",
      "include_colab_link": true
    },
    "kernelspec": {
      "name": "python3",
      "display_name": "Python 3"
    },
    "language_info": {
      "name": "python"
    }
  },
  "cells": [
    {
      "cell_type": "markdown",
      "metadata": {
        "id": "view-in-github",
        "colab_type": "text"
      },
      "source": [
        "<a href=\"https://colab.research.google.com/github/awchisholm/snippets/blob/main/Quiz.ipynb\" target=\"_parent\"><img src=\"https://colab.research.google.com/assets/colab-badge.svg\" alt=\"Open In Colab\"/></a>"
      ]
    },
    {
      "cell_type": "code",
      "execution_count": null,
      "metadata": {
        "id": "Or2CrfLujM0R"
      },
      "outputs": [],
      "source": [
        "import requests\n",
        "import pandas\n",
        "import html"
      ]
    },
    {
      "cell_type": "code",
      "source": [
        "url = 'https://opentdb.com/api.php?amount=1&category=18&difficulty=easy&type=boolean'\n",
        "success = 0\n",
        "fail = 0\n",
        "while True:\n",
        "  result = requests.get(url)\n",
        "  result_json = result.json()\n",
        "  question = pd.DataFrame(result_json['results'])\n",
        "  correct_answer = question['correct_answer'][0]\n",
        "  provided_answer = input(html.unescape(question['question'][0]))\n",
        "  if provided_answer == 'Quit':\n",
        "    break\n",
        "\n",
        "  provided_answer = provided_answer\n",
        "  if provided_answer == correct_answer:\n",
        "    success = success + 1\n",
        "    print('Correct')\n",
        "  else:\n",
        "    fail = fail + 1\n",
        "    print('Incorrect')\n",
        "\n",
        "success_percentage = round(100*success/(success + fail), 2)\n",
        "print(f'You were {success_percentage}% successful')"
      ],
      "metadata": {
        "id": "h-j4eO2wjRrB"
      },
      "execution_count": null,
      "outputs": []
    }
  ]
}