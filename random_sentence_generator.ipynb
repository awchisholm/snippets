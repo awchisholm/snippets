{
  "nbformat": 4,
  "nbformat_minor": 0,
  "metadata": {
    "colab": {
      "name": "random_sentence_generator",
      "provenance": [],
      "collapsed_sections": [],
      "authorship_tag": "ABX9TyOmQlLwJGLlu/1wK1Rq55td",
      "include_colab_link": true
    },
    "kernelspec": {
      "name": "python3",
      "display_name": "Python 3"
    },
    "language_info": {
      "name": "python"
    }
  },
  "cells": [
    {
      "cell_type": "markdown",
      "metadata": {
        "id": "view-in-github",
        "colab_type": "text"
      },
      "source": [
        "<a href=\"https://colab.research.google.com/github/awchisholm/snippets/blob/main/random_sentence_generator.ipynb\" target=\"_parent\"><img src=\"https://colab.research.google.com/assets/colab-badge.svg\" alt=\"Open In Colab\"/></a>"
      ]
    },
    {
      "cell_type": "code",
      "source": [
        "from random import choice \n",
        "adjectives = (\"adorable\", \"clueless\", \"dirty\", \"odd\", \"stupid\", \"green\", \"fat\")\n",
        "subject_nouns = (\"puppy\", \"car\", \"rabbit\", \"girl\", \"monkey\", \"I\", \"they\")\n",
        "positive_negative = (\"do\", \"don't\", \"sometimes\", \"never\", \"always\")\n",
        "verbs = (\"run\", \"hit\", \"jump\", \"drive\", \"barf\", \"play\", \"eat\", \"gobble\", \"stuff\", \"chop\")\n",
        "object_nouns = (\"wild\", \"wicket\", \"big\", \"shoes\", \"carrots\", \"games\", \"college\", \"sausage\", \"hash-brown\", \"chopper\") \n",
        "adverbs= (\"crazily\", \"dutifully\", \"foolishly\", \"merrily\", \"occasionally\", \"in secret\", \"naked\", \"fully clothed\", \"baked\", \"asleep\")\n",
        "\n",
        "print (choice(adjectives) + ' ' + choice(subject_nouns) + ' ' + choice(positive_negative) + ' ' + choice(verbs) + ' ' + choice(object_nouns) + ' ' + choice(adverbs))"
      ],
      "metadata": {
        "colab": {
          "base_uri": "https://localhost:8080/"
        },
        "id": "xna-3FvDBh8K",
        "outputId": "e62e130a-12ae-46f2-ab22-2490ee1d1202"
      },
      "execution_count": 59,
      "outputs": [
        {
          "output_type": "stream",
          "name": "stdout",
          "text": [
            "fat girl never jump carrots asleep\n"
          ]
        }
      ]
    }
  ]
}