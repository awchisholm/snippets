{
  "nbformat": 4,
  "nbformat_minor": 0,
  "metadata": {
    "colab": {
      "name": "automated unit testing with pytest",
      "provenance": [],
      "collapsed_sections": [],
      "authorship_tag": "ABX9TyOMji7RsdNLgs7MLFTwaQ13",
      "include_colab_link": true
    },
    "kernelspec": {
      "name": "python3",
      "display_name": "Python 3"
    },
    "language_info": {
      "name": "python"
    }
  },
  "cells": [
    {
      "cell_type": "markdown",
      "metadata": {
        "id": "view-in-github",
        "colab_type": "text"
      },
      "source": [
        "<a href=\"https://colab.research.google.com/github/awchisholm/snippets/blob/main/automated_unit_testing_with_pytest.ipynb\" target=\"_parent\"><img src=\"https://colab.research.google.com/assets/colab-badge.svg\" alt=\"Open In Colab\"/></a>"
      ]
    },
    {
      "cell_type": "code",
      "metadata": {
        "id": "EHsRmCD2Qcyr"
      },
      "source": [
        "#!pip install -q ipytest # not needed anymore"
      ],
      "execution_count": null,
      "outputs": []
    },
    {
      "cell_type": "code",
      "metadata": {
        "id": "Cf5vyHfAOIqZ"
      },
      "source": [
        "import pytest\n",
        "import ipytest\n",
        "ipytest.autoconfig()"
      ],
      "execution_count": null,
      "outputs": []
    },
    {
      "cell_type": "code",
      "metadata": {
        "id": "2KTRU4kfReaY"
      },
      "source": [
        "# Some code we want to test later\n",
        "import sqlite3\n",
        "import os\n",
        "import os.path\n",
        "\n",
        "# Define the DDL SQL \n",
        "sql = \"\"\"\n",
        "CREATE TABLE \"customer\" (\n",
        "\t\"Id\"\tINTEGER NOT NULL PRIMARY KEY AUTOINCREMENT,\n",
        "\t\"Name\"\tTEXT,\n",
        "\t\"Height\"\tREAL\n",
        ");\n",
        "CREATE TABLE \"booking\" (\n",
        "\t\"Id\"\tINTEGER NOT NULL PRIMARY KEY AUTOINCREMENT,\n",
        "\t\"Details\"\tTEXT,\n",
        "\t\"CustomerId\"\tINTEGER,\n",
        "\tCONSTRAINT \"customerid_fk\" FOREIGN KEY(\"CustomerId\") REFERENCES \"customer\"(\"Id\")\n",
        ");\n",
        "\"\"\"\n",
        "\n",
        "database_file = 'customer.db'\n",
        "# Delete the database\n",
        "if os.path.exists(database_file):\n",
        "  os.remove(database_file)\n",
        "\n",
        "# Connect to the database\n",
        "conn = sqlite3.connect(database_file)\n",
        "# Get a cursor pointing to the database\n",
        "cursor = conn.cursor()\n",
        "# Create the tables\n",
        "cursor.executescript(sql)\n",
        "# Commit to save everything\n",
        "conn.commit()\n",
        "# Close the connection to the database\n",
        "conn.close()\n",
        "\n",
        "def query_database(database, query):\n",
        "    conn = sqlite3.connect(database)\n",
        "    cur = conn.cursor()\n",
        "    cur.execute(query)\n",
        "    rows = cur.fetchall()\n",
        "    cur.close()\n",
        "    return rows\n",
        "\n",
        "def execute_sql(database, sql_statement):\n",
        "    conn = sqlite3.connect(database)\n",
        "    #conn.execute(\"PRAGMA foreign_keys = 1\")\n",
        "    cur = conn.cursor()\n",
        "    cur.execute(sql_statement)\n",
        "    conn.commit()\n",
        "    return cur.lastrowid\n",
        "\n",
        "insert = \"insert into customer (name, height) values ('Andrew Chisholm', 1.73)\"\n",
        "execute_sql(database_file, insert)\n",
        "result = query_database(database_file, \"select * from customer\")"
      ],
      "execution_count": null,
      "outputs": []
    },
    {
      "cell_type": "code",
      "metadata": {
        "id": "CkxiCP-hOZM5",
        "colab": {
          "base_uri": "https://localhost:8080/"
        },
        "outputId": "3ac65cc5-0825-454a-e6a8-cc7070a668dd"
      },
      "source": [
        "%%ipytest\n",
        "# This causes ipytest to look for all functions beginning with test_\n",
        "# and it then runs them to produce a nice looking report\n",
        "# The %%ipytest directive above is used in Colab - not needed in Visual Studio\n",
        "\n",
        "#1,2,4,5 will pass: 3 will fail\n",
        "\n",
        "def test_database_exists():\n",
        "    assert os.path.exists(database_file) == True\n",
        "\n",
        "def test_database_contains_one_row():\n",
        "    assert len(query_database(database_file, 'select * from customer')) == 1\n",
        "\n",
        "def test_database_contains_expected_row():\n",
        "    fetched = query_database(database_file, 'select Name, Height from customer')\n",
        "    expected = [('Andrew Chisholm', 1.72)]\n",
        "    # This will fail\n",
        "    assert fetched == expected\n",
        "\n",
        "def test_row_deleted_from_database():\n",
        "    result = execute_sql(database_file, \"delete from customer where name = 'Andrew Chisholm'\")\n",
        "    fetched = query_database(database_file, 'select * from customer')\n",
        "    expected = []\n",
        "    assert fetched == expected\n",
        "\n",
        "def test_row_added_to_database():\n",
        "    insert = \"insert into customer (name, height) values ('Andrew Chisholm', 1.73)\"\n",
        "    execute_sql(database_file, insert)\n",
        "    fetched = query_database(database_file, 'select Name, Height from customer')\n",
        "    expected = [('Andrew Chisholm', 1.73)]\n",
        "    assert fetched == expected"
      ],
      "execution_count": null,
      "outputs": [
        {
          "output_type": "stream",
          "name": "stdout",
          "text": [
            "\u001b[32m.\u001b[0m\u001b[32m.\u001b[0m\u001b[31mF\u001b[0m\u001b[32m.\u001b[0m\u001b[32m.\u001b[0m\u001b[31m                                                                                        [100%]\u001b[0m\n",
            "============================================= FAILURES =============================================\n",
            "\u001b[31m\u001b[1m_______________________________ test_database_contains_expected_row ________________________________\u001b[0m\n",
            "\n",
            "    \u001b[94mdef\u001b[39;49;00m \u001b[92mtest_database_contains_expected_row\u001b[39;49;00m():\n",
            "        fetched = query_database(database_file, \u001b[33m'\u001b[39;49;00m\u001b[33mselect Name, Height from customer\u001b[39;49;00m\u001b[33m'\u001b[39;49;00m)\n",
            "        expected = [(\u001b[33m'\u001b[39;49;00m\u001b[33mAndrew Chisholm\u001b[39;49;00m\u001b[33m'\u001b[39;49;00m, \u001b[94m1.72\u001b[39;49;00m)]\n",
            "        \u001b[90m# This will fail\u001b[39;49;00m\n",
            ">       \u001b[94massert\u001b[39;49;00m fetched == expected\n",
            "\u001b[1m\u001b[31mE       AssertionError: assert [('Andrew Chisholm', 1.73)] == [('Andrew Chisholm', 1.72)]\u001b[0m\n",
            "\u001b[1m\u001b[31mE         At index 0 diff: ('Andrew Chisholm', 1.73) != ('Andrew Chisholm', 1.72)\u001b[0m\n",
            "\u001b[1m\u001b[31mE         Full diff:\u001b[0m\n",
            "\u001b[1m\u001b[31mE         - [('Andrew Chisholm', 1.72)]\u001b[0m\n",
            "\u001b[1m\u001b[31mE         ?                         ^\u001b[0m\n",
            "\u001b[1m\u001b[31mE         + [('Andrew Chisholm', 1.73)]\u001b[0m\n",
            "\u001b[1m\u001b[31mE         ?                         ^\u001b[0m\n",
            "\n",
            "\u001b[1m\u001b[31m<ipython-input-11-766547ab3c41>\u001b[0m:15: AssertionError\n",
            "===================================== short test summary info ======================================\n",
            "FAILED tmpwv0b0k2o.py::test_database_contains_expected_row - AssertionError: assert [('Andrew Chi...\n",
            "\u001b[31m\u001b[31m\u001b[1m1 failed\u001b[0m, \u001b[32m4 passed\u001b[0m\u001b[31m in 0.06s\u001b[0m\u001b[0m\n"
          ]
        }
      ]
    }
  ]
}