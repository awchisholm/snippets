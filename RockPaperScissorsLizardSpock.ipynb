{
  "nbformat": 4,
  "nbformat_minor": 0,
  "metadata": {
    "colab": {
      "name": "RockPaperScissorsLizardSpock",
      "provenance": [],
      "collapsed_sections": [],
      "include_colab_link": true
    },
    "kernelspec": {
      "name": "python3",
      "display_name": "Python 3"
    },
    "language_info": {
      "name": "python"
    }
  },
  "cells": [
    {
      "cell_type": "markdown",
      "metadata": {
        "id": "view-in-github",
        "colab_type": "text"
      },
      "source": [
        "<a href=\"https://colab.research.google.com/github/awchisholm/snippets/blob/main/RockPaperScissorsLizardSpock.ipynb\" target=\"_parent\"><img src=\"https://colab.research.google.com/assets/colab-badge.svg\" alt=\"Open In Colab\"/></a>"
      ]
    },
    {
      "cell_type": "code",
      "source": [
        "import random\n",
        "import pandas as pd\n",
        "# What each player can choose\n",
        "player_choices = ('Rock', 'Paper', 'Scissors', 'Lizard', 'Spock', 'Quit ')\n",
        "computer_choices = ('Rock', 'Paper', 'Scissors', 'Lizard', 'Spock')\n",
        "# Some constants to make the table look neater\n",
        "Rock = 'Rock'\n",
        "Paper = 'Paper'\n",
        "Scissors = 'Scissors'\n",
        "Lizard = 'Lizard'\n",
        "Spock = 'Spock'\n",
        "computer_wins = 'Computer wins'\n",
        "player_wins = 'Player wins'\n",
        "draw = 'Draw'\n",
        "\n",
        "# Make a data frame with all the possible combinations\n",
        "# The column names will be \n",
        "#  Computer   Player    Result\n",
        "game_logic_list = \\\n",
        "  [\\\n",
        "   [Rock,     Rock,     draw], \n",
        "   [Rock,     Paper,    player_wins], \n",
        "   [Rock,     Scissors, computer_wins],\n",
        "   [Rock,     Lizard,   computer_wins],\n",
        "   [Rock,     Spock,    player_wins],\n",
        "   [Paper,    Rock,     computer_wins],\n",
        "   [Paper,    Paper,    draw],\n",
        "   [Paper,    Scissors, player_wins],\n",
        "   [Paper,    Lizard,   player_wins],\n",
        "   [Paper,    Spock,    computer_wins],\n",
        "   [Scissors, Rock,     player_wins],\n",
        "   [Scissors, Paper,    computer_wins],\n",
        "   [Scissors, Scissors, draw],\n",
        "   [Scissors, Lizard,   computer_wins],\n",
        "   [Scissors, Spock,    player_wins],\n",
        "   [Lizard,   Rock,     player_wins],\n",
        "   [Lizard,   Paper,    computer_wins],\n",
        "   [Lizard,   Scissors, player_wins],\n",
        "   [Lizard,   Lizard,   draw],\n",
        "   [Lizard,   Spock,    computer_wins],\n",
        "   [Spock,    Rock,     computer_wins],\n",
        "   [Spock,    Paper,    player_wins],\n",
        "   [Spock,    Scissors, computer_wins],\n",
        "   [Spock,    Lizard,   player_wins],\n",
        "   [Spock,    Spock,    draw],\n",
        "  ]\n",
        "game_logic = pd.DataFrame(game_logic_list, columns=['Computer', 'Player', 'Result'])"
      ],
      "metadata": {
        "id": "065JGcHzLp6F"
      },
      "execution_count": 129,
      "outputs": []
    },
    {
      "cell_type": "code",
      "source": [
        "# Ask the user for their name\n",
        "player_name = input(\"enter name \")\n",
        "computer_name = 'Computer'\n",
        "computer_score = 0\n",
        "player_score = 0\n",
        "draws = 0\n",
        "while True:\n",
        "  # Get the player's choice\n",
        "  player_choice = input(player_choices)\n",
        "  if 'Quit' in player_choice:\n",
        "    break       # Quit is valid\n",
        "  if player_choice not in player_choices:\n",
        "    continue    # If it's not in the list, go round again\n",
        "  \n",
        "  # Get the computer to choose \n",
        "  computer_choice = random.choice(computer_choices)\n",
        "  #computer_choice = game_logic[(game_logic['Player'] == player_choice) & (game_logic['Result'] == computer_wins)]['Computer'].values[0] \n",
        "  \n",
        "  # Look up what the player and the computer chose to get the result\n",
        "  result = game_logic[(game_logic['Player'] == player_choice) & (game_logic['Computer'] == computer_choice)]['Result'].values[0]\n",
        "  # Add to the running totals\n",
        "  if result == computer_wins:\n",
        "    computer_score += 1\n",
        "  if result == player_wins:\n",
        "    player_score += 1\n",
        "  if result == draw:\n",
        "    draws += 1\n",
        "  # print the result and the running totals\n",
        "  print(f\"[{player_name} chose {player_choice}] [{computer_name} chose {computer_choice}] [Result {result}]\")\n",
        "  print(f\"Running totals: [{player_name}: {player_score}] [Computer: {computer_score}] [Draws: {draws}]\")\n",
        "\n",
        "# Print the final scores\n",
        "print(f\"Final totals: [{player_name}: {player_score}] [Computer: {computer_score}] [Draws: {draws}]\")"
      ],
      "metadata": {
        "id": "rMYKEbiaSSMI"
      },
      "execution_count": null,
      "outputs": []
    }
  ]
}