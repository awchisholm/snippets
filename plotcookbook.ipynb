{
  "nbformat": 4,
  "nbformat_minor": 0,
  "metadata": {
    "colab": {
      "name": "plotcookbook",
      "provenance": [],
      "collapsed_sections": [],
      "authorship_tag": "ABX9TyMrOl00AOIDNz/Kz+Qkz491",
      "include_colab_link": true
    },
    "kernelspec": {
      "name": "python3",
      "display_name": "Python 3"
    },
    "language_info": {
      "name": "python"
    }
  },
  "cells": [
    {
      "cell_type": "markdown",
      "metadata": {
        "id": "view-in-github",
        "colab_type": "text"
      },
      "source": [
        "<a href=\"https://colab.research.google.com/github/awchisholm/snippets/blob/main/plotcookbook.ipynb\" target=\"_parent\"><img src=\"https://colab.research.google.com/assets/colab-badge.svg\" alt=\"Open In Colab\"/></a>"
      ]
    },
    {
      "cell_type": "code",
      "execution_count": 1,
      "metadata": {
        "id": "2RsNryuQn0lD"
      },
      "outputs": [],
      "source": [
        "import folium\n",
        "import pandas as pd"
      ]
    },
    {
      "cell_type": "code",
      "source": [
        "my_map = folium.Map(\n",
        "    location=[51, -1],\n",
        "    zoom_start=2\n",
        ")\n",
        "\n",
        "locations = pd.read_csv('https://raw.githubusercontent.com/awchisholm/cookbook/main/locations.csv', skipinitialspace=True)\n",
        "\n",
        "for index, location_info in locations.iterrows():\n",
        "    location = [location_info[\"Latitude\"], location_info[\"Longitude\"]]\n",
        "    popup = location_info['Point']\n",
        "    icon = folium.Icon(icon=location_info['Icon'], color=location_info['Color'], icon_color=location_info['Icon_color'])\n",
        "    folium.Marker(location=location, popup=popup, icon=icon).add_to(my_map)\n",
        "\n",
        "my_map\n"
      ],
      "metadata": {
        "id": "LsNcN8NWn_GK"
      },
      "execution_count": null,
      "outputs": []
    }
  ]
}