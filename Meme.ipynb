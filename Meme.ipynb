{
  "nbformat": 4,
  "nbformat_minor": 0,
  "metadata": {
    "colab": {
      "name": "Meme",
      "provenance": [],
      "collapsed_sections": [],
      "authorship_tag": "ABX9TyMfibD9KcATjQPyNHe+Jv6s",
      "include_colab_link": true
    },
    "kernelspec": {
      "name": "python3",
      "display_name": "Python 3"
    },
    "language_info": {
      "name": "python"
    }
  },
  "cells": [
    {
      "cell_type": "markdown",
      "metadata": {
        "id": "view-in-github",
        "colab_type": "text"
      },
      "source": [
        "<a href=\"https://colab.research.google.com/github/awchisholm/snippets/blob/main/Meme.ipynb\" target=\"_parent\"><img src=\"https://colab.research.google.com/assets/colab-badge.svg\" alt=\"Open In Colab\"/></a>"
      ]
    },
    {
      "cell_type": "code",
      "execution_count": null,
      "metadata": {
        "id": "UKlDw84MaCRv"
      },
      "outputs": [],
      "source": [
        "import requests\n",
        "from PIL import Image\n",
        "from io import BytesIO\n",
        "import pandas as pd\n",
        "import random\n",
        "#https://generatorfun.com/api-list\n",
        "\n",
        "meme_url = 'https://raw.githubusercontent.com/awchisholm/snippets/main/memes.csv'\n",
        "memes = pd.read_csv(meme_url)\n",
        "memes\n",
        "meme_number=random.randint(0,len(memes))\n",
        "new_meme_text = memes['value'][meme_number]\n",
        "new_meme = requests.get(f'http://apimeme.com/meme?meme={new_meme_text}&top=I+play+gamez&bottom=in+secret')\n",
        "img = Image.open(BytesIO(new_meme.content))\n",
        "img"
      ]
    },
    {
      "cell_type": "code",
      "source": [
        "quote_url = 'https://api.whatdoestrumpthink.com/api/v1/quotes/random'\n",
        "quote = requests.get(quote_url)\n",
        "quote_df = pd.DataFrame(quote.json())\n",
        "message = quote_df['message'][0]\n",
        "#message = message.replace(',', '')\n",
        "#message = message.replace('  ', ' ')\n",
        "#message = message.replace(' ', '+')\n",
        "#new_meme = requests.get(f'http://apimeme.com/meme?meme={new_meme_text}&top=I+was+the+one+that+really+broke+the+glass+ceiling+on+behalf+of+women&bottom=more+than+anybody+in+the+construction+industry')\n",
        "#img = Image.open(BytesIO(new_meme.content))\n",
        "#img"
      ],
      "metadata": {
        "id": "MVrRK-QE7W3Z"
      },
      "execution_count": 42,
      "outputs": []
    }
  ]
}