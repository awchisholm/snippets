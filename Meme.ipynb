{
  "nbformat": 4,
  "nbformat_minor": 0,
  "metadata": {
    "colab": {
      "name": "Meme",
      "provenance": [],
      "collapsed_sections": [],
      "authorship_tag": "ABX9TyMVrs770wqSRt1jSEll/CKM",
      "include_colab_link": true
    },
    "kernelspec": {
      "name": "python3",
      "display_name": "Python 3"
    },
    "language_info": {
      "name": "python"
    }
  },
  "cells": [
    {
      "cell_type": "markdown",
      "metadata": {
        "id": "view-in-github",
        "colab_type": "text"
      },
      "source": [
        "<a href=\"https://colab.research.google.com/github/awchisholm/snippets/blob/main/Meme.ipynb\" target=\"_parent\"><img src=\"https://colab.research.google.com/assets/colab-badge.svg\" alt=\"Open In Colab\"/></a>"
      ]
    },
    {
      "cell_type": "code",
      "source": [
        "#@title Default title text\n",
        "import requests\n",
        "from PIL import Image\n",
        "from io import BytesIO\n",
        "import pandas as pd\n",
        "import random\n",
        "from random import choice\n",
        "\n",
        "adjectives = (\"adorable\", \"clueless\", \"dirty\", \"odd\", \"stupid\", \"green\", \"fat\")\n",
        "subject_nouns = (\"puppy\", \"car\", \"rabbit\", \"bloke\", \"monkey\", \"I\", \"they\", \"we\")\n",
        "positive_negative = (\"do\", \"don't\", \"sometimes\", \"never\", \"always\")\n",
        "verbs = (\"run\", \"hit\", \"jump\", \"drive\", \"barf\", \"play\", \"eat\", \"gobble\", \"stuff\", \"chop\")\n",
        "object_nouns = (\"wild\", \"wicket\", \"big\", \"shoes\", \"carrots\", \"games\", \"college\", \"sausage\", \"hash-browns\", \"chopper\") \n",
        "adverbs= (\"crazily\", \"dutifully\", \"foolishly\", \"merrily\", \"occasionally\", \"in secret\", \"naked\", \"fully clothed\", \"baked\", \"asleep\")\n",
        "\n",
        "top = f'{choice(adjectives)} {choice(subject_nouns)} {choice(positive_negative)}'\n",
        "bottom = f'{choice(verbs)} {choice(object_nouns)} {choice(adverbs)}'\n",
        "\n",
        "meme_url = 'https://raw.githubusercontent.com/awchisholm/snippets/main/memes.csv'\n",
        "memes = pd.read_csv(meme_url)\n",
        "meme_number=random.randint(0,len(memes))\n",
        "new_meme_text = memes['value'][meme_number]\n",
        "new_meme_text = choice(memes['value'])\n",
        "new_meme = requests.get(f'http://apimeme.com/meme?meme={new_meme_text}&top={top}&bottom={bottom}')\n",
        "img = Image.open(BytesIO(new_meme.content))\n",
        "img.save(new_meme_text+' '+top+bottom +'.jpg')\n",
        "img"
      ],
      "metadata": {
        "id": "_3Np4AMFJIFc"
      },
      "execution_count": null,
      "outputs": []
    }
  ]
}