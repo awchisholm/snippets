{
  "nbformat": 4,
  "nbformat_minor": 0,
  "metadata": {
    "colab": {
      "name": "Meme",
      "provenance": [],
      "collapsed_sections": [],
      "authorship_tag": "ABX9TyP6RD8ZLubbBZlnWZODKrH1",
      "include_colab_link": true
    },
    "kernelspec": {
      "name": "python3",
      "display_name": "Python 3"
    },
    "language_info": {
      "name": "python"
    }
  },
  "cells": [
    {
      "cell_type": "markdown",
      "metadata": {
        "id": "view-in-github",
        "colab_type": "text"
      },
      "source": [
        "<a href=\"https://colab.research.google.com/github/awchisholm/snippets/blob/main/Meme.ipynb\" target=\"_parent\"><img src=\"https://colab.research.google.com/assets/colab-badge.svg\" alt=\"Open In Colab\"/></a>"
      ]
    },
    {
      "cell_type": "code",
      "execution_count": null,
      "metadata": {
        "id": "UKlDw84MaCRv"
      },
      "outputs": [],
      "source": [
        "import requests\n",
        "from PIL import Image\n",
        "from io import BytesIO\n",
        "import pandas as pd\n",
        "import random\n",
        "\n",
        "meme_url = 'https://raw.githubusercontent.com/awchisholm/snippets/main/memes.csv'\n",
        "memes = pd.read_csv(meme_url)\n",
        "memes\n",
        "meme_number=random.randint(0,len(memes))\n",
        "new_meme_text = memes['value'][meme_number]\n",
        "new_meme = requests.get(f'http://apimeme.com/meme?meme={new_meme_text}&top=I+play+gamez&bottom=in+secret')\n",
        "img = Image.open(BytesIO(new_meme.content))\n",
        "img"
      ]
    }
  ]
}