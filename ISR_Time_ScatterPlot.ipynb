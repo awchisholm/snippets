{
  "nbformat": 4,
  "nbformat_minor": 0,
  "metadata": {
    "colab": {
      "name": "ISR_Time_ScatterPlot.ipynb",
      "provenance": [],
      "collapsed_sections": [],
      "include_colab_link": true
    },
    "kernelspec": {
      "name": "python3",
      "display_name": "Python 3"
    },
    "language_info": {
      "name": "python"
    }
  },
  "cells": [
    {
      "cell_type": "markdown",
      "metadata": {
        "id": "view-in-github",
        "colab_type": "text"
      },
      "source": [
        "<a href=\"https://colab.research.google.com/github/awchisholm/snippets/blob/main/ISR_Time_ScatterPlot.ipynb\" target=\"_parent\"><img src=\"https://colab.research.google.com/assets/colab-badge.svg\" alt=\"Open In Colab\"/></a>"
      ]
    },
    {
      "cell_type": "code",
      "source": [
        "# Run this block before anything else\n",
        "\n",
        "%env PYTHONPATH=\n",
        "!wget -c https://repo.anaconda.com/miniconda/Miniconda3-4.5.4-Linux-x86_64.sh\n",
        "!chmod +x Miniconda3-4.5.4-Linux-x86_64.sh\n",
        "!bash ./Miniconda3-4.5.4-Linux-x86_64.sh -b -f -p /usr/local\n",
        "!rm ./Miniconda3-4.5.4-Linux-x86_64.sh\n",
        "!conda install -q -y --prefix /usr/local python=3.7 cartopy\n",
        "import sys\n",
        "sys.path.append('/usr/local/lib/python3.7/site-packages')\n",
        "%matplotlib inline\n",
        "\n",
        "import scipy.io.netcdf as sp\n",
        "import matplotlib.pyplot as plt\n",
        "import numpy as np\n",
        "\n",
        "!pip install cartopy\n",
        "import cartopy.crs as ccrs\n",
        "import cartopy.feature as cf\n",
        "from cartopy.util import add_cyclic_point\n",
        "\n",
        "from google.colab import drive\n",
        "drive.mount('/content/drive')"
      ],
      "metadata": {
        "id": "hhYiVZkaxbp1"
      },
      "execution_count": null,
      "outputs": []
    },
    {
      "cell_type": "code",
      "metadata": {
        "id": "mbh0Q1u7Lu1u"
      },
      "source": [
        "# This script creates a global contour map of the mean RSR values at each location\n",
        "\n",
        "# Open the dataset file\n",
        "fileObj = sp.NetCDFFile('/content/drive/My Drive/Meteorology/CERES_EBAF-TOA_Ed4.1_Subset_200003-202111.nc', 'r')\n",
        "\n",
        "# Make variables to store all the ISR and latitude values\n",
        "ISR = fileObj.variables['solar_mon'][:]\n",
        "lat = fileObj.variables['lat'][:]\n",
        "\n",
        "# Calculate how many full years of data is in the dataset\n",
        "numYears = ISR.shape[0] // 12\n",
        "\n",
        "# Create an array that stores a value for each year after 2000, with the year 2000 at index 0\n",
        "years = np.arange(numYears)\n",
        "\n",
        "# Create an array, with 0s as placeholders, that will be used to store the global mean ISR of each year\n",
        "yearlyGlobalMeanISR = np.zeros(numYears)\n",
        "\n",
        "# Loop through each year and calculate the global mean ISR during that time\n",
        "for i in range(numYears):\n",
        "    # Store 12 months of ISR data\n",
        "    oneYearISR = ISR[i*12:i*12+12, :, :]\n",
        "    \n",
        "    # Average the data at each location across all 12 months\n",
        "    meanYearISR = oneYearISR.mean(axis=0)\n",
        "    \n",
        "    # Average the data all longitude coordinates\n",
        "    meanYearLonISR = meanYearISR.mean(axis=1)\n",
        "    \n",
        "    # Weight the data depending on its latitude coordinates, with data from locations farther from the equator given less weight since it represents a smaller area\n",
        "    for j in range(lat.shape[0]):\n",
        "        meanYearLonISR[j] *= np.cos(lat[j] * np.pi/180)\n",
        "    \n",
        "    # Average the data across all latitude coordinates\n",
        "    yearlyGlobalMeanISR[i] = meanYearLonISR.mean(axis=0)\n",
        "\n",
        "# Calculate the slope, y-intercept, and correlation coefficient of the best-fit line through the ISR-vs-time points\n",
        "m, b = np.polyfit(years, yearlyGlobalMeanISR, 1)\n",
        "r = np.corrcoef(years, yearlyGlobalMeanISR)[0,1]\n",
        "\n",
        "# Create a scatter plot of the global mean ISR values over time, and then plot the best-fit line through the points\n",
        "plt.scatter(years, yearlyGlobalMeanISR)\n",
        "plt.plot(years, m * years + b)\n",
        "\n",
        "# Adjust the viewing window of the graph, and place a text box containing the equation of the best-fit line and value of the correlation coefficient. Un-comment the next two lines by deleting the '#'s for this to take effect.\n",
        "#plt.axis([0, 20, 0, 400])\n",
        "#plt.text(10, 50, 'ISR = ' + f'{m:.4g}' + '*t + ' + f'{b:.4g}' + '\\nr = ' + f'{r:.4g}')\n",
        "\n",
        "# Add a title and labels to the horizontal and vertical axes. Then adjust how many ticks are on the horizontal axis and add gridlines.\n",
        "plt.title('Global Mean ISR vs Time')\n",
        "plt.xlabel('Years after 2000')\n",
        "plt.ylabel('Global Mean ISR (W/m^2)')\n",
        "plt.locator_params(axis='x', nbins=5)\n",
        "plt.grid()\n",
        "\n",
        "# Save a PNG image of the map\n",
        "plt.savefig('/content/drive/My Drive/Meteorology/ISR_Time_ScatterPlot.png', bbox_inches='tight', dpi=200)"
      ],
      "execution_count": null,
      "outputs": []
    }
  ]
}