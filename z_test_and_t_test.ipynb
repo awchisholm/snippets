{
  "nbformat": 4,
  "nbformat_minor": 0,
  "metadata": {
    "colab": {
      "name": "z-test and t-test",
      "provenance": [],
      "authorship_tag": "ABX9TyMtSD4XKEmYSeucOYAjTGry",
      "include_colab_link": true
    },
    "kernelspec": {
      "name": "python3",
      "display_name": "Python 3"
    },
    "language_info": {
      "name": "python"
    }
  },
  "cells": [
    {
      "cell_type": "markdown",
      "metadata": {
        "id": "view-in-github",
        "colab_type": "text"
      },
      "source": [
        "<a href=\"https://colab.research.google.com/github/awchisholm/snippets/blob/main/z_test_and_t_test.ipynb\" target=\"_parent\"><img src=\"https://colab.research.google.com/assets/colab-badge.svg\" alt=\"Open In Colab\"/></a>"
      ]
    },
    {
      "cell_type": "code",
      "execution_count": null,
      "metadata": {
        "id": "7UMp7wEyJEaP"
      },
      "outputs": [],
      "source": [
        "from statsmodels.stats.weightstats import ztest as ztest\n",
        "import scipy.stats as stats\n",
        "import numpy as np\n",
        "\n",
        "#enter IQ levels for 20 patients\n",
        "data = [88, 92, 94, 94, 96, 97, 97, 97, 99, 99, 105, 109, 109, 109, 110, 112, 112, 113, 114, 115]\n",
        "data_mean = np.mean(data)\n",
        "#perform one sample z-test\n",
        "print(ztest(data, value=98))\n",
        "print(stats.ttest_1samp(a=data, popmean=98))"
      ]
    }
  ]
}