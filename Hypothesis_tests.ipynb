{
  "nbformat": 4,
  "nbformat_minor": 0,
  "metadata": {
    "colab": {
      "name": "Hypothesis tests",
      "provenance": [],
      "collapsed_sections": [],
      "authorship_tag": "ABX9TyPrNchC5BSpk8Vl3OMEADXx",
      "include_colab_link": true
    },
    "kernelspec": {
      "name": "python3",
      "display_name": "Python 3"
    },
    "language_info": {
      "name": "python"
    }
  },
  "cells": [
    {
      "cell_type": "markdown",
      "metadata": {
        "id": "view-in-github",
        "colab_type": "text"
      },
      "source": [
        "<a href=\"https://colab.research.google.com/github/awchisholm/snippets/blob/main/Hypothesis_tests.ipynb\" target=\"_parent\"><img src=\"https://colab.research.google.com/assets/colab-badge.svg\" alt=\"Open In Colab\"/></a>"
      ]
    },
    {
      "cell_type": "code",
      "execution_count": 10,
      "metadata": {
        "id": "dNMOOpbJn0IL"
      },
      "outputs": [],
      "source": [
        "from scipy import stats\n",
        "import numpy as np\n",
        "from scipy.stats import chisquare\n",
        "import matplotlib.pyplot as plt\n",
        "from statsmodels.graphics.gofplots import qqplot"
      ]
    },
    {
      "cell_type": "code",
      "source": [
        "# one sample t test\n",
        "a=[1,1,1,1,1,2,2,2,3,3,3,3,4,4,4,4,4,4,5,5,6,6,7,8,9,10]\n",
        "plt.hist(a)\n",
        "plt.show()\n",
        "print(f'Mean of a: {np.mean(a)}')\n",
        "print(stats.ttest_1samp(a, popmean=5))\n",
        "print('The p value below the critical value of 0.05 means there is a low likelihood ')\n",
        "print('that the sample came from a population with mean of 5 so we reject the null ')\n",
        "print('hypothesis that the sample and population have the same mean.')\n",
        "print('The sample mean is different from 5')"
      ],
      "metadata": {
        "id": "Was0jrCk4rss"
      },
      "execution_count": null,
      "outputs": []
    },
    {
      "cell_type": "code",
      "source": [
        "# 2 sample t test independent variables\n",
        "a=[1,1,1,1,1,2,2,2,3,3,3,3,4,4,4,4,4,4,5,5,6,6,7,8,9,10]\n",
        "b=[1,2,2,2,2,3,3,3,3,4,4,4,5,6,7,8,8,8,8,8,8,8,8,8,9,10]\n",
        "print(f'Mean and standard deviation of a: {np.mean(a)} {np.std(a)}')\n",
        "print(f'Mean and standard deviation of b: {np.mean(b)} {np.std(b)}')\n",
        "plt.hist(a)\n",
        "plt.show()\n",
        "plt.hist(b)\n",
        "plt.show()  \n",
        "print(stats.ttest_ind(a,b,equal_var=True))\n",
        "print('The p-value is below the threshold so we reject the null hypothesis')\n",
        "print('The means of these 2 samples are different')"
      ],
      "metadata": {
        "id": "fmq8fpGCoYU8"
      },
      "execution_count": null,
      "outputs": []
    },
    {
      "cell_type": "code",
      "source": [
        "print('10 coin tosses: 4 heads and 6 tails: is this a fair coin?')\n",
        "print(chisquare([4,6], f_exp=[5, 5]))\n",
        "print()\n",
        "print('100 coin tosses: 40 heads and 60 tails: is this a fair coin?')\n",
        "print(chisquare([40,60], f_exp=[50, 50]))\n",
        "print()\n",
        "print('100 coin tosses: 400 heads and 600 tails: is this a fair coin?')\n",
        "print(chisquare([400,600], f_exp=[500, 500]))"
      ],
      "metadata": {
        "id": "GSMKpbQGs4J1"
      },
      "execution_count": null,
      "outputs": []
    },
    {
      "cell_type": "code",
      "source": [
        "# check for normality\n",
        "a=np.asarray([1,1,1,1,1,2,2,2,3,3,3,3,4,4,4,4,4,4,5,5,6,6,7,8,9,10])\n",
        "plt.hist(a)\n",
        "qqplot(a, line='s')"
      ],
      "metadata": {
        "id": "e_LMzO5G9-c9"
      },
      "execution_count": null,
      "outputs": []
    },
    {
      "cell_type": "code",
      "source": [
        "from numpy.random import randn\n",
        "from numpy.random import seed\n",
        "from scipy.stats import pearsonr\n",
        "# seed random number generator\n",
        "seed(1)\n",
        "# prepare data\n",
        "data1 = 20 * randn(500) + 100\n",
        "data2 = data1 + (10 * randn(500) + 50)\n",
        "data3 = randn(500)\n",
        "print(f'No correlation so correlation coefficient is around 0 and p-value is near 1. {pearsonr(data1, data3)}')\n",
        "plt.scatter(data1, data3)\n",
        "plt.show()\n",
        "print(f'Positive correlation so correlation coefficient is near 1 and p-value is almost 0. {pearsonr(data1, data2)}')\n",
        "plt.scatter(data1, data2)\n",
        "plt.show()"
      ],
      "metadata": {
        "id": "BIOq7VfeGh4n"
      },
      "execution_count": null,
      "outputs": []
    }
  ]
}